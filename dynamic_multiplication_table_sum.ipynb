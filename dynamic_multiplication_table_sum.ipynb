{
  "nbformat": 4,
  "nbformat_minor": 0,
  "metadata": {
    "colab": {
      "provenance": [],
      "authorship_tag": "ABX9TyNnhWdwRjuo2a/Nq2/vHPUz",
      "include_colab_link": true
    },
    "kernelspec": {
      "name": "python3",
      "display_name": "Python 3"
    },
    "language_info": {
      "name": "python"
    }
  },
  "cells": [
    {
      "cell_type": "markdown",
      "metadata": {
        "id": "view-in-github",
        "colab_type": "text"
      },
      "source": [
        "<a href=\"https://colab.research.google.com/github/Pavan-8328/Solving-Problems/blob/main/dynamic_multiplication_table_sum.ipynb\" target=\"_parent\"><img src=\"https://colab.research.google.com/assets/colab-badge.svg\" alt=\"Open In Colab\"/></a>"
      ]
    },
    {
      "cell_type": "code",
      "execution_count": null,
      "metadata": {
        "colab": {
          "base_uri": "https://localhost:8080/"
        },
        "id": "i-eIMWph11bl",
        "outputId": "975dfc8e-e921-4e93-adfe-2da2687d2548"
      },
      "outputs": [
        {
          "output_type": "stream",
          "name": "stdout",
          "text": [
            "10\n",
            "550\n"
          ]
        }
      ],
      "source": [
        "def calculate_sum(n):\n",
        "\n",
        "  sum = 0\n",
        "  for i in range(1, n + 1):\n",
        "    sum += n * i\n",
        "  return sum\n",
        "\n",
        "n = int(input())\n",
        "\n",
        "\n",
        "result = calculate_sum(n)\n",
        "print(result)"
      ]
    }
  ]
}